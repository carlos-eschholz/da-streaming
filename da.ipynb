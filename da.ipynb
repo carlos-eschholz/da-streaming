{
  "cells": [
    {
      "cell_type": "markdown",
      "metadata": {
        "id": "fDG_Joui5Wpn"
      },
      "source": [
        "# **Análise Exploratória de Dados de Plataformas de Streaming**\n",
        "\n",
        "Nesse projeto vamos analisar os dados de dois conjuntos de dados:\n",
        "\n",
        "[Amazon](https://github.com/carlos-eschholz/da-streaming/blob/6efb07bdbeb9b94f04f69dc854fb10f941539917/data/amazon_prime_titles.csv)\n",
        "\n",
        "[Netflix](https://github.com/carlos-eschholz/da-streaming/blob/6efb07bdbeb9b94f04f69dc854fb10f941539917/data/netflix_titles.csv)\n",
        "\n",
        "Vamos lá!"
      ]
    },
    {
      "cell_type": "markdown",
      "metadata": {
        "id": "cTnKgpjw_mwo"
      },
      "source": [
        "\n",
        "\n",
        "---\n",
        "\n"
      ]
    },
    {
      "cell_type": "markdown",
      "metadata": {
        "id": "GOO2DlSH6w1o"
      },
      "source": [
        "# **Preparando o ambiente**"
      ]
    },
    {
      "cell_type": "code",
      "execution_count": 1,
      "metadata": {
        "id": "Z0C_qwGf5V68"
      },
      "outputs": [],
      "source": [
        "import pandas as pd\n",
        "import seaborn as sns"
      ]
    },
    {
      "cell_type": "markdown",
      "metadata": {
        "id": "TbkTkpby7m_X"
      },
      "source": [
        "Usaremos o pacote pandas para ler os conjunto de dados."
      ]
    },
    {
      "cell_type": "code",
      "execution_count": 2,
      "metadata": {
        "id": "dxb5oj8T5V69"
      },
      "outputs": [],
      "source": [
        "df_netflix = pd.read_csv('data/netflix_titles.csv')  #cria o dataframe netflix\n",
        "\n",
        "df_amazon = pd.read_csv('data/amazon_prime_titles.csv')  #cria o dataframe amazon"
      ]
    },
    {
      "cell_type": "code",
      "execution_count": 3,
      "metadata": {
        "id": "tm6xrtxI5V69"
      },
      "outputs": [
        {
          "data": {
            "text/html": [
              "<div>\n",
              "<style scoped>\n",
              "    .dataframe tbody tr th:only-of-type {\n",
              "        vertical-align: middle;\n",
              "    }\n",
              "\n",
              "    .dataframe tbody tr th {\n",
              "        vertical-align: top;\n",
              "    }\n",
              "\n",
              "    .dataframe thead th {\n",
              "        text-align: right;\n",
              "    }\n",
              "</style>\n",
              "<table border=\"1\" class=\"dataframe\">\n",
              "  <thead>\n",
              "    <tr style=\"text-align: right;\">\n",
              "      <th></th>\n",
              "      <th>show_id</th>\n",
              "      <th>type</th>\n",
              "      <th>title</th>\n",
              "      <th>director</th>\n",
              "      <th>cast</th>\n",
              "      <th>country</th>\n",
              "      <th>date_added</th>\n",
              "      <th>release_year</th>\n",
              "      <th>rating</th>\n",
              "      <th>duration</th>\n",
              "      <th>listed_in</th>\n",
              "      <th>description</th>\n",
              "    </tr>\n",
              "  </thead>\n",
              "  <tbody>\n",
              "    <tr>\n",
              "      <th>0</th>\n",
              "      <td>s1</td>\n",
              "      <td>Movie</td>\n",
              "      <td>Dick Johnson Is Dead</td>\n",
              "      <td>Kirsten Johnson</td>\n",
              "      <td>NaN</td>\n",
              "      <td>United States</td>\n",
              "      <td>September 25, 2021</td>\n",
              "      <td>2020</td>\n",
              "      <td>PG-13</td>\n",
              "      <td>90 min</td>\n",
              "      <td>Documentaries</td>\n",
              "      <td>As her father nears the end of his life, filmm...</td>\n",
              "    </tr>\n",
              "    <tr>\n",
              "      <th>1</th>\n",
              "      <td>s2</td>\n",
              "      <td>TV Show</td>\n",
              "      <td>Blood &amp; Water</td>\n",
              "      <td>NaN</td>\n",
              "      <td>Ama Qamata, Khosi Ngema, Gail Mabalane, Thaban...</td>\n",
              "      <td>South Africa</td>\n",
              "      <td>September 24, 2021</td>\n",
              "      <td>2021</td>\n",
              "      <td>TV-MA</td>\n",
              "      <td>2 Seasons</td>\n",
              "      <td>International TV Shows, TV Dramas, TV Mysteries</td>\n",
              "      <td>After crossing paths at a party, a Cape Town t...</td>\n",
              "    </tr>\n",
              "    <tr>\n",
              "      <th>2</th>\n",
              "      <td>s3</td>\n",
              "      <td>TV Show</td>\n",
              "      <td>Ganglands</td>\n",
              "      <td>Julien Leclercq</td>\n",
              "      <td>Sami Bouajila, Tracy Gotoas, Samuel Jouy, Nabi...</td>\n",
              "      <td>NaN</td>\n",
              "      <td>September 24, 2021</td>\n",
              "      <td>2021</td>\n",
              "      <td>TV-MA</td>\n",
              "      <td>1 Season</td>\n",
              "      <td>Crime TV Shows, International TV Shows, TV Act...</td>\n",
              "      <td>To protect his family from a powerful drug lor...</td>\n",
              "    </tr>\n",
              "    <tr>\n",
              "      <th>3</th>\n",
              "      <td>s4</td>\n",
              "      <td>TV Show</td>\n",
              "      <td>Jailbirds New Orleans</td>\n",
              "      <td>NaN</td>\n",
              "      <td>NaN</td>\n",
              "      <td>NaN</td>\n",
              "      <td>September 24, 2021</td>\n",
              "      <td>2021</td>\n",
              "      <td>TV-MA</td>\n",
              "      <td>1 Season</td>\n",
              "      <td>Docuseries, Reality TV</td>\n",
              "      <td>Feuds, flirtations and toilet talk go down amo...</td>\n",
              "    </tr>\n",
              "    <tr>\n",
              "      <th>4</th>\n",
              "      <td>s5</td>\n",
              "      <td>TV Show</td>\n",
              "      <td>Kota Factory</td>\n",
              "      <td>NaN</td>\n",
              "      <td>Mayur More, Jitendra Kumar, Ranjan Raj, Alam K...</td>\n",
              "      <td>India</td>\n",
              "      <td>September 24, 2021</td>\n",
              "      <td>2021</td>\n",
              "      <td>TV-MA</td>\n",
              "      <td>2 Seasons</td>\n",
              "      <td>International TV Shows, Romantic TV Shows, TV ...</td>\n",
              "      <td>In a city of coaching centers known to train I...</td>\n",
              "    </tr>\n",
              "  </tbody>\n",
              "</table>\n",
              "</div>"
            ],
            "text/plain": [
              "  show_id     type                  title         director  \\\n",
              "0      s1    Movie   Dick Johnson Is Dead  Kirsten Johnson   \n",
              "1      s2  TV Show          Blood & Water              NaN   \n",
              "2      s3  TV Show              Ganglands  Julien Leclercq   \n",
              "3      s4  TV Show  Jailbirds New Orleans              NaN   \n",
              "4      s5  TV Show           Kota Factory              NaN   \n",
              "\n",
              "                                                cast        country  \\\n",
              "0                                                NaN  United States   \n",
              "1  Ama Qamata, Khosi Ngema, Gail Mabalane, Thaban...   South Africa   \n",
              "2  Sami Bouajila, Tracy Gotoas, Samuel Jouy, Nabi...            NaN   \n",
              "3                                                NaN            NaN   \n",
              "4  Mayur More, Jitendra Kumar, Ranjan Raj, Alam K...          India   \n",
              "\n",
              "           date_added  release_year rating   duration  \\\n",
              "0  September 25, 2021          2020  PG-13     90 min   \n",
              "1  September 24, 2021          2021  TV-MA  2 Seasons   \n",
              "2  September 24, 2021          2021  TV-MA   1 Season   \n",
              "3  September 24, 2021          2021  TV-MA   1 Season   \n",
              "4  September 24, 2021          2021  TV-MA  2 Seasons   \n",
              "\n",
              "                                           listed_in  \\\n",
              "0                                      Documentaries   \n",
              "1    International TV Shows, TV Dramas, TV Mysteries   \n",
              "2  Crime TV Shows, International TV Shows, TV Act...   \n",
              "3                             Docuseries, Reality TV   \n",
              "4  International TV Shows, Romantic TV Shows, TV ...   \n",
              "\n",
              "                                         description  \n",
              "0  As her father nears the end of his life, filmm...  \n",
              "1  After crossing paths at a party, a Cape Town t...  \n",
              "2  To protect his family from a powerful drug lor...  \n",
              "3  Feuds, flirtations and toilet talk go down amo...  \n",
              "4  In a city of coaching centers known to train I...  "
            ]
          },
          "execution_count": 3,
          "metadata": {},
          "output_type": "execute_result"
        }
      ],
      "source": [
        "df_netflix.head() #tabela da netflix"
      ]
    },
    {
      "cell_type": "code",
      "execution_count": 4,
      "metadata": {
        "id": "VCFeqOz65V6-"
      },
      "outputs": [
        {
          "data": {
            "text/html": [
              "<div>\n",
              "<style scoped>\n",
              "    .dataframe tbody tr th:only-of-type {\n",
              "        vertical-align: middle;\n",
              "    }\n",
              "\n",
              "    .dataframe tbody tr th {\n",
              "        vertical-align: top;\n",
              "    }\n",
              "\n",
              "    .dataframe thead th {\n",
              "        text-align: right;\n",
              "    }\n",
              "</style>\n",
              "<table border=\"1\" class=\"dataframe\">\n",
              "  <thead>\n",
              "    <tr style=\"text-align: right;\">\n",
              "      <th></th>\n",
              "      <th>show_id</th>\n",
              "      <th>type</th>\n",
              "      <th>title</th>\n",
              "      <th>director</th>\n",
              "      <th>cast</th>\n",
              "      <th>country</th>\n",
              "      <th>date_added</th>\n",
              "      <th>release_year</th>\n",
              "      <th>rating</th>\n",
              "      <th>duration</th>\n",
              "      <th>listed_in</th>\n",
              "      <th>description</th>\n",
              "    </tr>\n",
              "  </thead>\n",
              "  <tbody>\n",
              "    <tr>\n",
              "      <th>0</th>\n",
              "      <td>s1</td>\n",
              "      <td>Movie</td>\n",
              "      <td>The Grand Seduction</td>\n",
              "      <td>Don McKellar</td>\n",
              "      <td>Brendan Gleeson, Taylor Kitsch, Gordon Pinsent</td>\n",
              "      <td>Canada</td>\n",
              "      <td>March 30, 2021</td>\n",
              "      <td>2014</td>\n",
              "      <td>NaN</td>\n",
              "      <td>113 min</td>\n",
              "      <td>Comedy, Drama</td>\n",
              "      <td>A small fishing village must procure a local d...</td>\n",
              "    </tr>\n",
              "    <tr>\n",
              "      <th>1</th>\n",
              "      <td>s2</td>\n",
              "      <td>Movie</td>\n",
              "      <td>Take Care Good Night</td>\n",
              "      <td>Girish Joshi</td>\n",
              "      <td>Mahesh Manjrekar, Abhay Mahajan, Sachin Khedekar</td>\n",
              "      <td>India</td>\n",
              "      <td>March 30, 2021</td>\n",
              "      <td>2018</td>\n",
              "      <td>13+</td>\n",
              "      <td>110 min</td>\n",
              "      <td>Drama, International</td>\n",
              "      <td>A Metro Family decides to fight a Cyber Crimin...</td>\n",
              "    </tr>\n",
              "    <tr>\n",
              "      <th>2</th>\n",
              "      <td>s3</td>\n",
              "      <td>Movie</td>\n",
              "      <td>Secrets of Deception</td>\n",
              "      <td>Josh Webber</td>\n",
              "      <td>Tom Sizemore, Lorenzo Lamas, Robert LaSardo, R...</td>\n",
              "      <td>United States</td>\n",
              "      <td>March 30, 2021</td>\n",
              "      <td>2017</td>\n",
              "      <td>NaN</td>\n",
              "      <td>74 min</td>\n",
              "      <td>Action, Drama, Suspense</td>\n",
              "      <td>After a man discovers his wife is cheating on ...</td>\n",
              "    </tr>\n",
              "    <tr>\n",
              "      <th>3</th>\n",
              "      <td>s4</td>\n",
              "      <td>Movie</td>\n",
              "      <td>Pink: Staying True</td>\n",
              "      <td>Sonia Anderson</td>\n",
              "      <td>Interviews with: Pink, Adele, Beyoncé, Britney...</td>\n",
              "      <td>United States</td>\n",
              "      <td>March 30, 2021</td>\n",
              "      <td>2014</td>\n",
              "      <td>NaN</td>\n",
              "      <td>69 min</td>\n",
              "      <td>Documentary</td>\n",
              "      <td>Pink breaks the mold once again, bringing her ...</td>\n",
              "    </tr>\n",
              "    <tr>\n",
              "      <th>4</th>\n",
              "      <td>s5</td>\n",
              "      <td>Movie</td>\n",
              "      <td>Monster Maker</td>\n",
              "      <td>Giles Foster</td>\n",
              "      <td>Harry Dean Stanton, Kieran O'Brien, George Cos...</td>\n",
              "      <td>United Kingdom</td>\n",
              "      <td>March 30, 2021</td>\n",
              "      <td>1989</td>\n",
              "      <td>NaN</td>\n",
              "      <td>45 min</td>\n",
              "      <td>Drama, Fantasy</td>\n",
              "      <td>Teenage Matt Banting wants to work with a famo...</td>\n",
              "    </tr>\n",
              "  </tbody>\n",
              "</table>\n",
              "</div>"
            ],
            "text/plain": [
              "  show_id   type                 title        director  \\\n",
              "0      s1  Movie   The Grand Seduction    Don McKellar   \n",
              "1      s2  Movie  Take Care Good Night    Girish Joshi   \n",
              "2      s3  Movie  Secrets of Deception     Josh Webber   \n",
              "3      s4  Movie    Pink: Staying True  Sonia Anderson   \n",
              "4      s5  Movie         Monster Maker    Giles Foster   \n",
              "\n",
              "                                                cast         country  \\\n",
              "0     Brendan Gleeson, Taylor Kitsch, Gordon Pinsent          Canada   \n",
              "1   Mahesh Manjrekar, Abhay Mahajan, Sachin Khedekar           India   \n",
              "2  Tom Sizemore, Lorenzo Lamas, Robert LaSardo, R...   United States   \n",
              "3  Interviews with: Pink, Adele, Beyoncé, Britney...   United States   \n",
              "4  Harry Dean Stanton, Kieran O'Brien, George Cos...  United Kingdom   \n",
              "\n",
              "       date_added  release_year rating duration                listed_in  \\\n",
              "0  March 30, 2021          2014    NaN  113 min            Comedy, Drama   \n",
              "1  March 30, 2021          2018    13+  110 min     Drama, International   \n",
              "2  March 30, 2021          2017    NaN   74 min  Action, Drama, Suspense   \n",
              "3  March 30, 2021          2014    NaN   69 min              Documentary   \n",
              "4  March 30, 2021          1989    NaN   45 min           Drama, Fantasy   \n",
              "\n",
              "                                         description  \n",
              "0  A small fishing village must procure a local d...  \n",
              "1  A Metro Family decides to fight a Cyber Crimin...  \n",
              "2  After a man discovers his wife is cheating on ...  \n",
              "3  Pink breaks the mold once again, bringing her ...  \n",
              "4  Teenage Matt Banting wants to work with a famo...  "
            ]
          },
          "execution_count": 4,
          "metadata": {},
          "output_type": "execute_result"
        }
      ],
      "source": [
        "df_amazon.head()  #tabela da amazon"
      ]
    },
    {
      "cell_type": "markdown",
      "metadata": {
        "id": "F3LzFaAo_k6j"
      },
      "source": [
        "\n",
        "\n",
        "---\n",
        "\n"
      ]
    },
    {
      "cell_type": "markdown",
      "metadata": {
        "id": "xBBY_GT37-SY"
      },
      "source": [
        "# **Schema dos dados**"
      ]
    },
    {
      "cell_type": "code",
      "execution_count": 5,
      "metadata": {
        "id": "fG7fz9Nq5V6-"
      },
      "outputs": [
        {
          "name": "stdout",
          "output_type": "stream",
          "text": [
            "<class 'pandas.core.frame.DataFrame'>\n",
            "RangeIndex: 8807 entries, 0 to 8806\n",
            "Data columns (total 12 columns):\n",
            " #   Column        Non-Null Count  Dtype \n",
            "---  ------        --------------  ----- \n",
            " 0   show_id       8807 non-null   object\n",
            " 1   type          8807 non-null   object\n",
            " 2   title         8807 non-null   object\n",
            " 3   director      6173 non-null   object\n",
            " 4   cast          7982 non-null   object\n",
            " 5   country       7976 non-null   object\n",
            " 6   date_added    8797 non-null   object\n",
            " 7   release_year  8807 non-null   int64 \n",
            " 8   rating        8803 non-null   object\n",
            " 9   duration      8804 non-null   object\n",
            " 10  listed_in     8807 non-null   object\n",
            " 11  description   8807 non-null   object\n",
            "dtypes: int64(1), object(11)\n",
            "memory usage: 825.8+ KB\n"
          ]
        }
      ],
      "source": [
        "df_netflix.info() # informação dos dados da netflix"
      ]
    },
    {
      "cell_type": "code",
      "execution_count": 6,
      "metadata": {
        "id": "f8SA8rH35V6_"
      },
      "outputs": [
        {
          "name": "stdout",
          "output_type": "stream",
          "text": [
            "<class 'pandas.core.frame.DataFrame'>\n",
            "RangeIndex: 9668 entries, 0 to 9667\n",
            "Data columns (total 12 columns):\n",
            " #   Column        Non-Null Count  Dtype \n",
            "---  ------        --------------  ----- \n",
            " 0   show_id       9668 non-null   object\n",
            " 1   type          9668 non-null   object\n",
            " 2   title         9668 non-null   object\n",
            " 3   director      7586 non-null   object\n",
            " 4   cast          8435 non-null   object\n",
            " 5   country       672 non-null    object\n",
            " 6   date_added    155 non-null    object\n",
            " 7   release_year  9668 non-null   int64 \n",
            " 8   rating        9331 non-null   object\n",
            " 9   duration      9668 non-null   object\n",
            " 10  listed_in     9668 non-null   object\n",
            " 11  description   9668 non-null   object\n",
            "dtypes: int64(1), object(11)\n",
            "memory usage: 906.5+ KB\n"
          ]
        }
      ],
      "source": [
        "df_amazon.info()  # informação dos dados da amazon"
      ]
    },
    {
      "cell_type": "markdown",
      "metadata": {
        "id": "-xi1guti8XHo"
      },
      "source": [
        "Observamos que ambos possuem as mesmas colunas e algumas têm dados faltantes e a maioria não estão em seu formato ideal, como por exemplo a coluna 'date_added' que esta como object e não como data!"
      ]
    },
    {
      "cell_type": "markdown",
      "metadata": {
        "id": "s4ZUgqwb_jno"
      },
      "source": [
        "\n",
        "\n",
        "---\n",
        "\n"
      ]
    },
    {
      "cell_type": "markdown",
      "metadata": {
        "id": "ac0vches9TuI"
      },
      "source": [
        "# **Unindo os dataframes**"
      ]
    },
    {
      "cell_type": "markdown",
      "metadata": {
        "id": "QEVN27ml9lqQ"
      },
      "source": [
        "Como os dataframes possuiem as mesmas colunas o que vamos fazer é unir os dois sem uma ordem lógica, simplesmente um depois o outro! Mas para diferencia-los vamos criar uma coluna chamada 'plataforma' e assim diferenciar um do outro."
      ]
    },
    {
      "cell_type": "code",
      "execution_count": 7,
      "metadata": {
        "id": "w6-BRbda5V6_"
      },
      "outputs": [
        {
          "name": "stdout",
          "output_type": "stream",
          "text": [
            "<class 'pandas.core.frame.DataFrame'>\n",
            "RangeIndex: 8807 entries, 0 to 8806\n",
            "Data columns (total 13 columns):\n",
            " #   Column        Non-Null Count  Dtype \n",
            "---  ------        --------------  ----- \n",
            " 0   show_id       8807 non-null   object\n",
            " 1   type          8807 non-null   object\n",
            " 2   title         8807 non-null   object\n",
            " 3   director      6173 non-null   object\n",
            " 4   cast          7982 non-null   object\n",
            " 5   country       7976 non-null   object\n",
            " 6   date_added    8797 non-null   object\n",
            " 7   release_year  8807 non-null   int64 \n",
            " 8   rating        8803 non-null   object\n",
            " 9   duration      8804 non-null   object\n",
            " 10  listed_in     8807 non-null   object\n",
            " 11  description   8807 non-null   object\n",
            " 12  plataforma    8807 non-null   object\n",
            "dtypes: int64(1), object(12)\n",
            "memory usage: 894.6+ KB\n"
          ]
        }
      ],
      "source": [
        "df_netflix['plataforma'] = ['netflix'] * 8807 #criando uma coluna nova no dataframe netflix\n",
        "\n",
        "df_netflix.info()"
      ]
    },
    {
      "cell_type": "code",
      "execution_count": 8,
      "metadata": {
        "id": "IeTfBmbs5V7A"
      },
      "outputs": [
        {
          "name": "stdout",
          "output_type": "stream",
          "text": [
            "<class 'pandas.core.frame.DataFrame'>\n",
            "RangeIndex: 9668 entries, 0 to 9667\n",
            "Data columns (total 13 columns):\n",
            " #   Column        Non-Null Count  Dtype \n",
            "---  ------        --------------  ----- \n",
            " 0   show_id       9668 non-null   object\n",
            " 1   type          9668 non-null   object\n",
            " 2   title         9668 non-null   object\n",
            " 3   director      7586 non-null   object\n",
            " 4   cast          8435 non-null   object\n",
            " 5   country       672 non-null    object\n",
            " 6   date_added    155 non-null    object\n",
            " 7   release_year  9668 non-null   int64 \n",
            " 8   rating        9331 non-null   object\n",
            " 9   duration      9668 non-null   object\n",
            " 10  listed_in     9668 non-null   object\n",
            " 11  description   9668 non-null   object\n",
            " 12  plataforma    9668 non-null   object\n",
            "dtypes: int64(1), object(12)\n",
            "memory usage: 982.0+ KB\n"
          ]
        }
      ],
      "source": [
        "df_amazon['plataforma'] = ['amazon'] * 9668 #agora é a vez do amazon\n",
        "\n",
        "df_amazon.info()"
      ]
    },
    {
      "cell_type": "markdown",
      "metadata": {
        "id": "GtVFLYGM-ev5"
      },
      "source": [
        "Usei como referência de valor as informação obtidas no passo anterior."
      ]
    },
    {
      "cell_type": "code",
      "execution_count": 9,
      "metadata": {
        "id": "K4RqtsbV5V7B"
      },
      "outputs": [],
      "source": [
        "plataformas_df = pd.concat([df_amazon, df_netflix]).reset_index(drop=True)  #unindo os dataframes em um novo chamado plataformas"
      ]
    },
    {
      "cell_type": "markdown",
      "metadata": {
        "id": "ML1VsZPL-zX_"
      },
      "source": [
        "Schema do novo dataframe"
      ]
    },
    {
      "cell_type": "code",
      "execution_count": 10,
      "metadata": {
        "id": "l8p3weRs5V7B"
      },
      "outputs": [
        {
          "data": {
            "text/html": [
              "<div>\n",
              "<style scoped>\n",
              "    .dataframe tbody tr th:only-of-type {\n",
              "        vertical-align: middle;\n",
              "    }\n",
              "\n",
              "    .dataframe tbody tr th {\n",
              "        vertical-align: top;\n",
              "    }\n",
              "\n",
              "    .dataframe thead th {\n",
              "        text-align: right;\n",
              "    }\n",
              "</style>\n",
              "<table border=\"1\" class=\"dataframe\">\n",
              "  <thead>\n",
              "    <tr style=\"text-align: right;\">\n",
              "      <th></th>\n",
              "      <th>show_id</th>\n",
              "      <th>type</th>\n",
              "      <th>title</th>\n",
              "      <th>director</th>\n",
              "      <th>cast</th>\n",
              "      <th>country</th>\n",
              "      <th>date_added</th>\n",
              "      <th>release_year</th>\n",
              "      <th>rating</th>\n",
              "      <th>duration</th>\n",
              "      <th>listed_in</th>\n",
              "      <th>description</th>\n",
              "      <th>plataforma</th>\n",
              "    </tr>\n",
              "  </thead>\n",
              "  <tbody>\n",
              "    <tr>\n",
              "      <th>0</th>\n",
              "      <td>s1</td>\n",
              "      <td>Movie</td>\n",
              "      <td>The Grand Seduction</td>\n",
              "      <td>Don McKellar</td>\n",
              "      <td>Brendan Gleeson, Taylor Kitsch, Gordon Pinsent</td>\n",
              "      <td>Canada</td>\n",
              "      <td>March 30, 2021</td>\n",
              "      <td>2014</td>\n",
              "      <td>NaN</td>\n",
              "      <td>113 min</td>\n",
              "      <td>Comedy, Drama</td>\n",
              "      <td>A small fishing village must procure a local d...</td>\n",
              "      <td>amazon</td>\n",
              "    </tr>\n",
              "    <tr>\n",
              "      <th>1</th>\n",
              "      <td>s2</td>\n",
              "      <td>Movie</td>\n",
              "      <td>Take Care Good Night</td>\n",
              "      <td>Girish Joshi</td>\n",
              "      <td>Mahesh Manjrekar, Abhay Mahajan, Sachin Khedekar</td>\n",
              "      <td>India</td>\n",
              "      <td>March 30, 2021</td>\n",
              "      <td>2018</td>\n",
              "      <td>13+</td>\n",
              "      <td>110 min</td>\n",
              "      <td>Drama, International</td>\n",
              "      <td>A Metro Family decides to fight a Cyber Crimin...</td>\n",
              "      <td>amazon</td>\n",
              "    </tr>\n",
              "    <tr>\n",
              "      <th>2</th>\n",
              "      <td>s3</td>\n",
              "      <td>Movie</td>\n",
              "      <td>Secrets of Deception</td>\n",
              "      <td>Josh Webber</td>\n",
              "      <td>Tom Sizemore, Lorenzo Lamas, Robert LaSardo, R...</td>\n",
              "      <td>United States</td>\n",
              "      <td>March 30, 2021</td>\n",
              "      <td>2017</td>\n",
              "      <td>NaN</td>\n",
              "      <td>74 min</td>\n",
              "      <td>Action, Drama, Suspense</td>\n",
              "      <td>After a man discovers his wife is cheating on ...</td>\n",
              "      <td>amazon</td>\n",
              "    </tr>\n",
              "    <tr>\n",
              "      <th>3</th>\n",
              "      <td>s4</td>\n",
              "      <td>Movie</td>\n",
              "      <td>Pink: Staying True</td>\n",
              "      <td>Sonia Anderson</td>\n",
              "      <td>Interviews with: Pink, Adele, Beyoncé, Britney...</td>\n",
              "      <td>United States</td>\n",
              "      <td>March 30, 2021</td>\n",
              "      <td>2014</td>\n",
              "      <td>NaN</td>\n",
              "      <td>69 min</td>\n",
              "      <td>Documentary</td>\n",
              "      <td>Pink breaks the mold once again, bringing her ...</td>\n",
              "      <td>amazon</td>\n",
              "    </tr>\n",
              "    <tr>\n",
              "      <th>4</th>\n",
              "      <td>s5</td>\n",
              "      <td>Movie</td>\n",
              "      <td>Monster Maker</td>\n",
              "      <td>Giles Foster</td>\n",
              "      <td>Harry Dean Stanton, Kieran O'Brien, George Cos...</td>\n",
              "      <td>United Kingdom</td>\n",
              "      <td>March 30, 2021</td>\n",
              "      <td>1989</td>\n",
              "      <td>NaN</td>\n",
              "      <td>45 min</td>\n",
              "      <td>Drama, Fantasy</td>\n",
              "      <td>Teenage Matt Banting wants to work with a famo...</td>\n",
              "      <td>amazon</td>\n",
              "    </tr>\n",
              "  </tbody>\n",
              "</table>\n",
              "</div>"
            ],
            "text/plain": [
              "  show_id   type                 title        director  \\\n",
              "0      s1  Movie   The Grand Seduction    Don McKellar   \n",
              "1      s2  Movie  Take Care Good Night    Girish Joshi   \n",
              "2      s3  Movie  Secrets of Deception     Josh Webber   \n",
              "3      s4  Movie    Pink: Staying True  Sonia Anderson   \n",
              "4      s5  Movie         Monster Maker    Giles Foster   \n",
              "\n",
              "                                                cast         country  \\\n",
              "0     Brendan Gleeson, Taylor Kitsch, Gordon Pinsent          Canada   \n",
              "1   Mahesh Manjrekar, Abhay Mahajan, Sachin Khedekar           India   \n",
              "2  Tom Sizemore, Lorenzo Lamas, Robert LaSardo, R...   United States   \n",
              "3  Interviews with: Pink, Adele, Beyoncé, Britney...   United States   \n",
              "4  Harry Dean Stanton, Kieran O'Brien, George Cos...  United Kingdom   \n",
              "\n",
              "       date_added  release_year rating duration                listed_in  \\\n",
              "0  March 30, 2021          2014    NaN  113 min            Comedy, Drama   \n",
              "1  March 30, 2021          2018    13+  110 min     Drama, International   \n",
              "2  March 30, 2021          2017    NaN   74 min  Action, Drama, Suspense   \n",
              "3  March 30, 2021          2014    NaN   69 min              Documentary   \n",
              "4  March 30, 2021          1989    NaN   45 min           Drama, Fantasy   \n",
              "\n",
              "                                         description plataforma  \n",
              "0  A small fishing village must procure a local d...     amazon  \n",
              "1  A Metro Family decides to fight a Cyber Crimin...     amazon  \n",
              "2  After a man discovers his wife is cheating on ...     amazon  \n",
              "3  Pink breaks the mold once again, bringing her ...     amazon  \n",
              "4  Teenage Matt Banting wants to work with a famo...     amazon  "
            ]
          },
          "execution_count": 10,
          "metadata": {},
          "output_type": "execute_result"
        }
      ],
      "source": [
        "plataformas_df.head() #inicio do df plataformas"
      ]
    },
    {
      "cell_type": "code",
      "execution_count": 11,
      "metadata": {
        "id": "K9QsPl4A_DVg"
      },
      "outputs": [
        {
          "data": {
            "text/html": [
              "<div>\n",
              "<style scoped>\n",
              "    .dataframe tbody tr th:only-of-type {\n",
              "        vertical-align: middle;\n",
              "    }\n",
              "\n",
              "    .dataframe tbody tr th {\n",
              "        vertical-align: top;\n",
              "    }\n",
              "\n",
              "    .dataframe thead th {\n",
              "        text-align: right;\n",
              "    }\n",
              "</style>\n",
              "<table border=\"1\" class=\"dataframe\">\n",
              "  <thead>\n",
              "    <tr style=\"text-align: right;\">\n",
              "      <th></th>\n",
              "      <th>show_id</th>\n",
              "      <th>type</th>\n",
              "      <th>title</th>\n",
              "      <th>director</th>\n",
              "      <th>cast</th>\n",
              "      <th>country</th>\n",
              "      <th>date_added</th>\n",
              "      <th>release_year</th>\n",
              "      <th>rating</th>\n",
              "      <th>duration</th>\n",
              "      <th>listed_in</th>\n",
              "      <th>description</th>\n",
              "      <th>plataforma</th>\n",
              "    </tr>\n",
              "  </thead>\n",
              "  <tbody>\n",
              "    <tr>\n",
              "      <th>18470</th>\n",
              "      <td>s8803</td>\n",
              "      <td>Movie</td>\n",
              "      <td>Zodiac</td>\n",
              "      <td>David Fincher</td>\n",
              "      <td>Mark Ruffalo, Jake Gyllenhaal, Robert Downey J...</td>\n",
              "      <td>United States</td>\n",
              "      <td>November 20, 2019</td>\n",
              "      <td>2007</td>\n",
              "      <td>R</td>\n",
              "      <td>158 min</td>\n",
              "      <td>Cult Movies, Dramas, Thrillers</td>\n",
              "      <td>A political cartoonist, a crime reporter and a...</td>\n",
              "      <td>netflix</td>\n",
              "    </tr>\n",
              "    <tr>\n",
              "      <th>18471</th>\n",
              "      <td>s8804</td>\n",
              "      <td>TV Show</td>\n",
              "      <td>Zombie Dumb</td>\n",
              "      <td>NaN</td>\n",
              "      <td>NaN</td>\n",
              "      <td>NaN</td>\n",
              "      <td>July 1, 2019</td>\n",
              "      <td>2018</td>\n",
              "      <td>TV-Y7</td>\n",
              "      <td>2 Seasons</td>\n",
              "      <td>Kids' TV, Korean TV Shows, TV Comedies</td>\n",
              "      <td>While living alone in a spooky town, a young g...</td>\n",
              "      <td>netflix</td>\n",
              "    </tr>\n",
              "    <tr>\n",
              "      <th>18472</th>\n",
              "      <td>s8805</td>\n",
              "      <td>Movie</td>\n",
              "      <td>Zombieland</td>\n",
              "      <td>Ruben Fleischer</td>\n",
              "      <td>Jesse Eisenberg, Woody Harrelson, Emma Stone, ...</td>\n",
              "      <td>United States</td>\n",
              "      <td>November 1, 2019</td>\n",
              "      <td>2009</td>\n",
              "      <td>R</td>\n",
              "      <td>88 min</td>\n",
              "      <td>Comedies, Horror Movies</td>\n",
              "      <td>Looking to survive in a world taken over by zo...</td>\n",
              "      <td>netflix</td>\n",
              "    </tr>\n",
              "    <tr>\n",
              "      <th>18473</th>\n",
              "      <td>s8806</td>\n",
              "      <td>Movie</td>\n",
              "      <td>Zoom</td>\n",
              "      <td>Peter Hewitt</td>\n",
              "      <td>Tim Allen, Courteney Cox, Chevy Chase, Kate Ma...</td>\n",
              "      <td>United States</td>\n",
              "      <td>January 11, 2020</td>\n",
              "      <td>2006</td>\n",
              "      <td>PG</td>\n",
              "      <td>88 min</td>\n",
              "      <td>Children &amp; Family Movies, Comedies</td>\n",
              "      <td>Dragged from civilian life, a former superhero...</td>\n",
              "      <td>netflix</td>\n",
              "    </tr>\n",
              "    <tr>\n",
              "      <th>18474</th>\n",
              "      <td>s8807</td>\n",
              "      <td>Movie</td>\n",
              "      <td>Zubaan</td>\n",
              "      <td>Mozez Singh</td>\n",
              "      <td>Vicky Kaushal, Sarah-Jane Dias, Raaghav Chanan...</td>\n",
              "      <td>India</td>\n",
              "      <td>March 2, 2019</td>\n",
              "      <td>2015</td>\n",
              "      <td>TV-14</td>\n",
              "      <td>111 min</td>\n",
              "      <td>Dramas, International Movies, Music &amp; Musicals</td>\n",
              "      <td>A scrappy but poor boy worms his way into a ty...</td>\n",
              "      <td>netflix</td>\n",
              "    </tr>\n",
              "  </tbody>\n",
              "</table>\n",
              "</div>"
            ],
            "text/plain": [
              "      show_id     type        title         director  \\\n",
              "18470   s8803    Movie       Zodiac    David Fincher   \n",
              "18471   s8804  TV Show  Zombie Dumb              NaN   \n",
              "18472   s8805    Movie   Zombieland  Ruben Fleischer   \n",
              "18473   s8806    Movie         Zoom     Peter Hewitt   \n",
              "18474   s8807    Movie       Zubaan      Mozez Singh   \n",
              "\n",
              "                                                    cast        country  \\\n",
              "18470  Mark Ruffalo, Jake Gyllenhaal, Robert Downey J...  United States   \n",
              "18471                                                NaN            NaN   \n",
              "18472  Jesse Eisenberg, Woody Harrelson, Emma Stone, ...  United States   \n",
              "18473  Tim Allen, Courteney Cox, Chevy Chase, Kate Ma...  United States   \n",
              "18474  Vicky Kaushal, Sarah-Jane Dias, Raaghav Chanan...          India   \n",
              "\n",
              "              date_added  release_year rating   duration  \\\n",
              "18470  November 20, 2019          2007      R    158 min   \n",
              "18471       July 1, 2019          2018  TV-Y7  2 Seasons   \n",
              "18472   November 1, 2019          2009      R     88 min   \n",
              "18473   January 11, 2020          2006     PG     88 min   \n",
              "18474      March 2, 2019          2015  TV-14    111 min   \n",
              "\n",
              "                                            listed_in  \\\n",
              "18470                  Cult Movies, Dramas, Thrillers   \n",
              "18471          Kids' TV, Korean TV Shows, TV Comedies   \n",
              "18472                         Comedies, Horror Movies   \n",
              "18473              Children & Family Movies, Comedies   \n",
              "18474  Dramas, International Movies, Music & Musicals   \n",
              "\n",
              "                                             description plataforma  \n",
              "18470  A political cartoonist, a crime reporter and a...    netflix  \n",
              "18471  While living alone in a spooky town, a young g...    netflix  \n",
              "18472  Looking to survive in a world taken over by zo...    netflix  \n",
              "18473  Dragged from civilian life, a former superhero...    netflix  \n",
              "18474  A scrappy but poor boy worms his way into a ty...    netflix  "
            ]
          },
          "execution_count": 11,
          "metadata": {},
          "output_type": "execute_result"
        }
      ],
      "source": [
        "plataformas_df.tail() #final do df plataformas"
      ]
    },
    {
      "cell_type": "code",
      "execution_count": 12,
      "metadata": {
        "id": "VJrQilnv5V7B"
      },
      "outputs": [
        {
          "name": "stdout",
          "output_type": "stream",
          "text": [
            "<class 'pandas.core.frame.DataFrame'>\n",
            "RangeIndex: 18475 entries, 0 to 18474\n",
            "Data columns (total 13 columns):\n",
            " #   Column        Non-Null Count  Dtype \n",
            "---  ------        --------------  ----- \n",
            " 0   show_id       18475 non-null  object\n",
            " 1   type          18475 non-null  object\n",
            " 2   title         18475 non-null  object\n",
            " 3   director      13759 non-null  object\n",
            " 4   cast          16417 non-null  object\n",
            " 5   country       8648 non-null   object\n",
            " 6   date_added    8952 non-null   object\n",
            " 7   release_year  18475 non-null  int64 \n",
            " 8   rating        18134 non-null  object\n",
            " 9   duration      18472 non-null  object\n",
            " 10  listed_in     18475 non-null  object\n",
            " 11  description   18475 non-null  object\n",
            " 12  plataforma    18475 non-null  object\n",
            "dtypes: int64(1), object(12)\n",
            "memory usage: 1.8+ MB\n"
          ]
        }
      ],
      "source": [
        "plataformas_df.info() #schema do df plataformas"
      ]
    },
    {
      "cell_type": "markdown",
      "metadata": {
        "id": "GJVImVnc_grQ"
      },
      "source": [
        "\n",
        "\n",
        "---\n",
        "\n"
      ]
    },
    {
      "cell_type": "markdown",
      "metadata": {
        "id": "kMUasmoO_UNR"
      },
      "source": [
        "# **Análise de dados**"
      ]
    },
    {
      "cell_type": "markdown",
      "metadata": {
        "id": "9hH86G_A_d_p"
      },
      "source": [
        "**Vamos descobrir quais são os dez atores com mais atuações?**"
      ]
    },
    {
      "cell_type": "code",
      "execution_count": 13,
      "metadata": {
        "id": "5gMP7zwb5V7C"
      },
      "outputs": [
        {
          "name": "stdout",
          "output_type": "stream",
          "text": [
            "110551\n"
          ]
        }
      ],
      "source": [
        "lista = list(plataformas_df['cast']) #cria uma lista com os dados da coluna 'cast'\n",
        "\n",
        "lista = str(lista).strip('[]').replace(\"'\",\"\").replace(\"|\",\"\")  #cria um texto com os dados e depois \"limpa\" os caracteres que não vamos usar\n",
        "\n",
        "atores = lista.split(sep=',') #cria uma lista com os nomes individuais\n",
        "\n",
        "print(len(atores)) #mostrar a quantidade de atores na lista"
      ]
    },
    {
      "cell_type": "markdown",
      "metadata": {
        "id": "8zJti-AqAWOH"
      },
      "source": [
        "Como a coluna 'cast' era formada por conjuntos de atores o que fizemos ali foi separar os atores para fazer a classificação!"
      ]
    },
    {
      "cell_type": "code",
      "execution_count": 14,
      "metadata": {
        "id": "ZvHI2YFG5V7C"
      },
      "outputs": [
        {
          "name": "stdout",
          "output_type": "stream",
          "text": [
            "                  atores     0\n",
            "0                    nan  2058\n",
            "1            Anupam Kher    59\n",
            "2         Maggie Binkley    56\n",
            "3       Amitabh Bachchan    47\n",
            "4         Shah Rukh Khan    46\n",
            "...                  ...   ...\n",
            "61516     Isabela Merced     1\n",
            "61517     Isabela Souzza     1\n",
            "61518    Isabela Trannin     1\n",
            "61519     Isabella Amara     1\n",
            "61520    Brendan Gleeson     1\n",
            "\n",
            "[61521 rows x 2 columns]\n"
          ]
        }
      ],
      "source": [
        "top_10 = pd.DataFrame(atores, columns =  ['atores']) #cria uma variavel com os valores obtidos acima\n",
        "top_10 = top_10.value_counts().reset_index() #cria uma coluna com a contagem dos atores\n",
        "\n",
        "print(top_10)"
      ]
    },
    {
      "cell_type": "markdown",
      "metadata": {
        "id": "CO8YE5DeCN5U"
      },
      "source": [
        "Fizemos a contagem mas o ator que mais apareceu foi o nan! Vamos consertar!"
      ]
    },
    {
      "cell_type": "code",
      "execution_count": 15,
      "metadata": {
        "id": "e3PeRSEd5V7D"
      },
      "outputs": [
        {
          "name": "stdout",
          "output_type": "stream",
          "text": [
            "                    nome  qtd\n",
            "1            Anupam Kher   59\n",
            "2         Maggie Binkley   56\n",
            "3       Amitabh Bachchan   47\n",
            "4         Shah Rukh Khan   46\n",
            "5                 Nassar   43\n",
            "...                  ...  ...\n",
            "61516     Isabela Merced    1\n",
            "61517     Isabela Souzza    1\n",
            "61518    Isabela Trannin    1\n",
            "61519     Isabella Amara    1\n",
            "61520    Brendan Gleeson    1\n",
            "\n",
            "[61520 rows x 2 columns]\n"
          ]
        }
      ],
      "source": [
        "top_10 = top_10.drop(0) #remove o nan\n",
        "top_10.columns = ['nome','qtd'] #muda o nome das colunas\n",
        "\n",
        "print(top_10)"
      ]
    },
    {
      "cell_type": "markdown",
      "metadata": {
        "id": "9KBliRIWChHq"
      },
      "source": [
        "Agora ficou bom! Vamos separar os dez primeiros"
      ]
    },
    {
      "cell_type": "code",
      "execution_count": 16,
      "metadata": {
        "id": "MWSZkgNb5V7D"
      },
      "outputs": [
        {
          "name": "stdout",
          "output_type": "stream",
          "text": [
            "                 nome  qtd\n",
            "1         Anupam Kher   59\n",
            "2      Maggie Binkley   56\n",
            "3    Amitabh Bachchan   47\n",
            "4      Shah Rukh Khan   46\n",
            "5              Nassar   43\n",
            "6        Akshay Kumar   39\n",
            "7    Naseeruddin Shah   39\n",
            "8        Paresh Rawal   39\n",
            "9         Danny Trejo   37\n",
            "10                  1   35\n",
            "11            Om Puri   35\n"
          ]
        }
      ],
      "source": [
        "top_10_actor = top_10.loc[0:11] #seleciona os 11 primeiros pois havia um caractere entre os 10\n",
        "\n",
        "print(top_10_actor)"
      ]
    },
    {
      "cell_type": "markdown",
      "metadata": {
        "id": "t6th9ipVCxsc"
      },
      "source": [
        "Agora apareceu o ator 1! Vamos remover."
      ]
    },
    {
      "cell_type": "code",
      "execution_count": 17,
      "metadata": {
        "id": "dtuvjM9hCtJZ"
      },
      "outputs": [
        {
          "name": "stdout",
          "output_type": "stream",
          "text": [
            "                nome  qtd\n",
            "0        Anupam Kher   59\n",
            "1     Maggie Binkley   56\n",
            "2   Amitabh Bachchan   47\n",
            "3     Shah Rukh Khan   46\n",
            "4             Nassar   43\n",
            "5       Akshay Kumar   39\n",
            "6   Naseeruddin Shah   39\n",
            "7       Paresh Rawal   39\n",
            "8        Danny Trejo   37\n",
            "9            Om Puri   35\n"
          ]
        }
      ],
      "source": [
        "top_10_actor = top_10_actor.drop(10).reset_index(drop=True) # removi o \"1\" e arrumei o index\n",
        "\n",
        "print(top_10_actor)"
      ]
    },
    {
      "cell_type": "markdown",
      "metadata": {
        "id": "FgfvkfyoC9Ry"
      },
      "source": [
        "Agora temos os dez atores com maiores participações!"
      ]
    },
    {
      "cell_type": "markdown",
      "metadata": {
        "id": "XF4MdQ7NE6oE"
      },
      "source": [
        "Com o pacote seaborn vamos fazer um gráfico."
      ]
    },
    {
      "cell_type": "code",
      "execution_count": 18,
      "metadata": {
        "id": "9eMkNZN-5V7D"
      },
      "outputs": [
        {
          "data": {
            "image/png": "[encoded data removed]",
            "text/plain": [
              "<Figure size 864x288 with 1 Axes>"
            ]
          },
          "metadata": {},
          "output_type": "display_data"
        }
      ],
      "source": [
        "with sns.axes_style('whitegrid'): #adiciona a grade\n",
        "    grafico_1 = sns.barplot(data=top_10_actor,x='nome',y='qtd',hue='nome',palette='pastel') #cria o gráfico\n",
        "    grafico_1.set(title='Top 10 actors', xlabel='Actors', ylabel='Qtd') #modifica os nomes das retas e título\n",
        "    grafico_1.set_xticks([]) #remove os nomes dos atores do eixo x para não poluir o gráfico\n",
        "\n",
        "grafico_1.legend(loc='center left', bbox_to_anchor=(1, 0.5))  #cria a legenda ao lado do gráfico\n",
        "grafico_1.figure.set_figwidth(12) #aumenta a largura do gráfico"
      ]
    },
    {
      "cell_type": "markdown",
      "metadata": {
        "id": "96xN8a8EDweZ"
      },
      "source": [
        "Um gráfico para melhor visualização!"
      ]
    },
    {
      "cell_type": "markdown",
      "metadata": {
        "id": "0muMWKJ8ESl6"
      },
      "source": [
        "\n",
        "\n",
        "---\n",
        "\n"
      ]
    },
    {
      "cell_type": "markdown",
      "metadata": {
        "id": "3UfYRlRmETuh"
      },
      "source": [
        "**Quais são os países com maior número de produções?**"
      ]
    },
    {
      "cell_type": "markdown",
      "metadata": {
        "id": "LVkpYeGJEe7B"
      },
      "source": [
        "Para isso separei a coluna 'country' para fazer a análise."
      ]
    },
    {
      "cell_type": "code",
      "execution_count": 19,
      "metadata": {
        "id": "GariMAMr5V7E"
      },
      "outputs": [
        {
          "name": "stdout",
          "output_type": "stream",
          "text": [
            "          country  qtd_filmes\n",
            "0   United States        3071\n",
            "1           India        1201\n",
            "2  United Kingdom         447\n",
            "3           Japan         247\n",
            "4     South Korea         199\n"
          ]
        }
      ],
      "source": [
        "top_5_country = plataformas_df['country'].value_counts().reset_index(0) #separa a coluna desejada e cria uma auxiliar\n",
        "\n",
        "top_5_country =  top_5_country.loc[0:4] #separa os 5 primeiros países\n",
        "\n",
        "top_5_country.columns = ['country','qtd_filmes'] #arruma os nomes das colunas\n",
        "\n",
        "print(top_5_country)"
      ]
    },
    {
      "cell_type": "markdown",
      "metadata": {
        "id": "c9ObMZdkFHni"
      },
      "source": [
        "E com isso temos os cinco campeões de produção!"
      ]
    },
    {
      "cell_type": "code",
      "execution_count": 20,
      "metadata": {
        "id": "p0w1gvDf5V7E"
      },
      "outputs": [
        {
          "data": {
            "image/png": "[encoded data removed]",
            "text/plain": [
              "<Figure size 576x360 with 1 Axes>"
            ]
          },
          "metadata": {},
          "output_type": "display_data"
        }
      ],
      "source": [
        "with sns.axes_style('whitegrid'): \n",
        "    grafico_2 = sns.barplot(data=top_5_country,x='country',y='qtd_filmes',hue='country', palette='pastel')\n",
        "    grafico_2.set(title='Top 5 countries', xlabel='country', ylabel='Qtd')\n",
        "\n",
        "grafico_2.legend(loc='center left', bbox_to_anchor=(1, 0.5))\n",
        "grafico_2.figure.set_figwidth(8)\n",
        "grafico_2.figure.set_figheight(5) #aumenta a altra do gráfico"
      ]
    },
    {
      "cell_type": "markdown",
      "metadata": {
        "id": "jk3PFvi3Fea7"
      },
      "source": [
        "Gráfico para melhor visualizar."
      ]
    },
    {
      "cell_type": "markdown",
      "metadata": {
        "id": "TfUQCI9qFkPB"
      },
      "source": [
        "\n",
        "\n",
        "---\n",
        "\n"
      ]
    },
    {
      "cell_type": "markdown",
      "metadata": {
        "id": "lEnuAiM1FlMx"
      },
      "source": [
        "**Qual o mês com maior quantidade de lançamento de filmes na netflix?**"
      ]
    },
    {
      "cell_type": "markdown",
      "metadata": {
        "id": "NxnS5rn_FwW6"
      },
      "source": [
        "Para isso vamos usar o dataframe netflix!"
      ]
    },
    {
      "cell_type": "markdown",
      "metadata": {
        "id": "nSBi6ekZGm35"
      },
      "source": [
        "Mas antes temos que tratar a coluna 'date_added' para facilitar nossa análise."
      ]
    },
    {
      "cell_type": "code",
      "execution_count": 21,
      "metadata": {
        "id": "URUBBK5x5V7E"
      },
      "outputs": [
        {
          "name": "stderr",
          "output_type": "stream",
          "text": [
            "C:\\Users\\CARLOS~1\\AppData\\Local\\Temp/ipykernel_8268/290038845.py:3: SettingWithCopyWarning: \n",
            "A value is trying to be set on a copy of a slice from a DataFrame.\n",
            "Try using .loc[row_indexer,col_indexer] = value instead\n",
            "\n",
            "See the caveats in the documentation: https://pandas.pydata.org/pandas-docs/stable/user_guide/indexing.html#returning-a-view-versus-a-copy\n",
            "  max_date_added['date_added'] = pd.to_datetime(df_netflix.date_added)  #informa que a coluna é do tipo date\n",
            "C:\\Users\\CARLOS~1\\AppData\\Local\\Temp/ipykernel_8268/290038845.py:5: SettingWithCopyWarning: \n",
            "A value is trying to be set on a copy of a slice from a DataFrame.\n",
            "Try using .loc[row_indexer,col_indexer] = value instead\n",
            "\n",
            "See the caveats in the documentation: https://pandas.pydata.org/pandas-docs/stable/user_guide/indexing.html#returning-a-view-versus-a-copy\n",
            "  max_date_added['date_added'] = max_date_added['date_added'].dt.strftime('%m/%Y')  #retira o dia para ficarmos com o mês\n"
          ]
        },
        {
          "data": {
            "text/plain": [
              "11/2019    187\n",
              "07/2021    169\n",
              "12/2019    168\n",
              "01/2020    152\n",
              "10/2018    146\n",
              "          ... \n",
              "04/2014      1\n",
              "07/2014      1\n",
              "08/2014      1\n",
              "09/2014      1\n",
              "06/2014      1\n",
              "Name: date_added, Length: 105, dtype: int64"
            ]
          },
          "execution_count": 21,
          "metadata": {},
          "output_type": "execute_result"
        }
      ],
      "source": [
        "max_date_added = df_netflix.query('type != \"TV Show\"') # cria uma variavel somente filmes do df netflix\n",
        "\n",
        "max_date_added['date_added'] = pd.to_datetime(df_netflix.date_added)  #informa que a coluna é do tipo date\n",
        "\n",
        "max_date_added['date_added'] = max_date_added['date_added'].dt.strftime('%m/%Y')  #retira o dia para ficarmos com o mês\n",
        "\n",
        "max_date_added['date_added'].value_counts() #faz a contagem"
      ]
    },
    {
      "cell_type": "markdown",
      "metadata": {
        "id": "HRoQoW-XHCpT"
      },
      "source": [
        "O mês de novembro de 2019  foi o  campeão com 187 lançamentos!"
      ]
    },
    {
      "cell_type": "code",
      "execution_count": 22,
      "metadata": {},
      "outputs": [
        {
          "data": {
            "image/png": "[encoded data removed]",
            "text/plain": [
              "<Figure size 432x288 with 1 Axes>"
            ]
          },
          "metadata": {},
          "output_type": "display_data"
        }
      ],
      "source": [
        "top_5_months = max_date_added['date_added'].value_counts().reset_index(0)\n",
        "top_5_months =  top_5_months.loc[0:4]\n",
        "top_5_months.columns = ['date','qtd_releases']\n",
        "\n",
        "with sns.axes_style('whitegrid'): \n",
        "    grafico_3 = sns.lineplot(data=top_5_months,x='date',y='qtd_releases', palette='pastel')\n",
        "    grafico_3.set(title='Top 5 Months', xlabel='month', ylabel='Qtd')"
      ]
    },
    {
      "cell_type": "markdown",
      "metadata": {
        "id": "EtmLvnmjHMOa"
      },
      "source": [
        "\n",
        "\n",
        "---\n",
        "\n"
      ]
    },
    {
      "cell_type": "markdown",
      "metadata": {
        "id": "WAaNS2I0HM0D"
      },
      "source": [
        "**Quantos filmes de comédia têm disponível?**"
      ]
    },
    {
      "cell_type": "markdown",
      "metadata": {
        "id": "1VcNAS7LHZYr"
      },
      "source": [
        "Vamos descobrir separando os filmes do nosso dataframe plataformas!"
      ]
    },
    {
      "cell_type": "code",
      "execution_count": 23,
      "metadata": {
        "id": "0ZUlhmFp5V7E"
      },
      "outputs": [
        {
          "data": {
            "text/plain": [
              "2498"
            ]
          },
          "execution_count": 23,
          "metadata": {},
          "output_type": "execute_result"
        }
      ],
      "source": [
        "comedy = plataformas_df.query('type != \"TV Show\"')  #separa o que não é 'TV Show'\n",
        "\n",
        "comedy = plataformas_df.query('listed_in.str.contains(\"Comedy\")') #separa os que contém 'Comedy' em seu texto\n",
        "\n",
        "comedy['listed_in'].value_counts().sum()#faz a contagem!"
      ]
    },
    {
      "cell_type": "markdown",
      "metadata": {
        "id": "bCG_X89lHng6"
      },
      "source": [
        "Temos 2498 filmes de comedia dispoíveis!"
      ]
    },
    {
      "cell_type": "markdown",
      "metadata": {
        "id": "TLpnGEtpH8ZK"
      },
      "source": [
        "\n",
        "\n",
        "---\n",
        "\n"
      ]
    },
    {
      "cell_type": "markdown",
      "metadata": {
        "id": "t-38TUcuH88C"
      },
      "source": [
        "**Quantos gêneros tem a nossa disposição?**"
      ]
    },
    {
      "cell_type": "markdown",
      "metadata": {
        "id": "7vGAJ7TJIoBz"
      },
      "source": [
        "Vamos separar os filmes e contar os gêneros!"
      ]
    },
    {
      "cell_type": "code",
      "execution_count": 24,
      "metadata": {
        "id": "in7YV7yx5V7F"
      },
      "outputs": [
        {
          "name": "stdout",
          "output_type": "stream",
          "text": [
            "O total de gêneros é: 715\n"
          ]
        }
      ],
      "source": [
        "genero = plataformas_df.query('type == \"Movie\"')  #replica o df mas somente com os filmes\n",
        "\n",
        "genero = genero['listed_in']  #restringe a variável a somente a coluna 'listed_in'\n",
        "\n",
        "genero_list = list(set(genero)) #remove duplicatas\n",
        "\n",
        "print(\"O total de gêneros é:\",len(genero_list)) #insight"
      ]
    },
    {
      "cell_type": "markdown",
      "metadata": {
        "id": "bHkIePizJP_T"
      },
      "source": [
        "\n",
        "\n",
        "---\n",
        "\n"
      ]
    },
    {
      "cell_type": "markdown",
      "metadata": {
        "id": "7G0-70E4JQtz"
      },
      "source": [
        "**Quantos filmes e séries temos nos catálogos?**"
      ]
    },
    {
      "cell_type": "markdown",
      "metadata": {
        "id": "O8w3eTCQJali"
      },
      "source": [
        "Para isso vamos seprar a coluna 'type' do df plataformas e vamos comparar um com o outro!"
      ]
    },
    {
      "cell_type": "code",
      "execution_count": 25,
      "metadata": {
        "id": "DZbqQb_y5V7F"
      },
      "outputs": [
        {
          "name": "stdout",
          "output_type": "stream",
          "text": [
            "Movie      13945\n",
            "TV Show     4530\n",
            "Name: type, dtype: int64\n",
            "Movie      0.75\n",
            "TV Show    0.25\n",
            "Name: type, dtype: float64\n"
          ]
        }
      ],
      "source": [
        "frequency = plataformas_df['type'].value_counts() #separa os filmes e séries\n",
        "\n",
        "print(frequency)\n",
        "\n",
        "frequency_per = plataformas_df['type'].value_counts(normalize=True).round(2)  #tira o percentual\n",
        "\n",
        "print(frequency_per)"
      ]
    },
    {
      "cell_type": "markdown",
      "metadata": {
        "id": "ePWb1fqzJvE0"
      },
      "source": [
        "Temos 13945 filmes e 4530 séries no total!"
      ]
    },
    {
      "cell_type": "markdown",
      "metadata": {
        "id": "no6d35MkJ2mU"
      },
      "source": [
        "\n",
        "\n",
        "---\n",
        "\n"
      ]
    },
    {
      "cell_type": "markdown",
      "metadata": {
        "id": "1nWcUjhRJ4Bs"
      },
      "source": [
        "Agora vamos fazer o mesmo com o df netflix e comprarar com o total."
      ]
    },
    {
      "cell_type": "code",
      "execution_count": 26,
      "metadata": {
        "id": "EPSGOInx5V7G"
      },
      "outputs": [
        {
          "name": "stdout",
          "output_type": "stream",
          "text": [
            "Movie      6131\n",
            "TV Show    2676\n",
            "Name: type, dtype: int64\n",
            "Movie      0.44\n",
            "TV Show    0.59\n",
            "Name: type, dtype: float64\n"
          ]
        }
      ],
      "source": [
        "f_netflix = df_netflix['type'].value_counts() \n",
        "\n",
        "print(f_netflix)\n",
        "\n",
        "c_netflix = (f_netflix / frequency).round(2)\n",
        "\n",
        "print(c_netflix)"
      ]
    },
    {
      "cell_type": "markdown",
      "metadata": {
        "id": "Qs2auoexKCvD"
      },
      "source": [
        "Temos 6131 filmes e 2676 séries na netflix que representam 44% e 59% respectivamente do total."
      ]
    },
    {
      "cell_type": "markdown",
      "metadata": {
        "id": "3-m11wYbKNsU"
      },
      "source": [
        "\n",
        "\n",
        "---\n",
        "\n"
      ]
    },
    {
      "cell_type": "markdown",
      "metadata": {
        "id": "uID1DwzpKOOe"
      },
      "source": [
        "Vez do df amazon!"
      ]
    },
    {
      "cell_type": "code",
      "execution_count": 27,
      "metadata": {
        "id": "Cn_yk-j25V7G"
      },
      "outputs": [
        {
          "name": "stdout",
          "output_type": "stream",
          "text": [
            "Movie      7814\n",
            "TV Show    1854\n",
            "Name: type, dtype: int64\n",
            "Movie      0.56\n",
            "TV Show    0.41\n",
            "Name: type, dtype: float64\n"
          ]
        }
      ],
      "source": [
        "f_amazon = df_amazon['type'].value_counts()\n",
        "\n",
        "print(f_amazon)\n",
        "\n",
        "c_amazon = (f_amazon / frequency).round(2)\n",
        "\n",
        "print(c_amazon)"
      ]
    },
    {
      "cell_type": "markdown",
      "metadata": {
        "id": "WbzuZpvqKT00"
      },
      "source": [
        "Temos 7814 filmes e 1856 séries na amazon que representam 56% e 41% respectivamente do total."
      ]
    },
    {
      "cell_type": "markdown",
      "metadata": {
        "id": "XVSxULb0KYpr"
      },
      "source": [
        "\n",
        "\n",
        "---\n",
        "\n"
      ]
    },
    {
      "cell_type": "markdown",
      "metadata": {
        "id": "LFTD2FoiKZxs"
      },
      "source": [
        "Vamos ver nos gráficos pra ficar melhor:"
      ]
    },
    {
      "cell_type": "code",
      "execution_count": 28,
      "metadata": {
        "id": "6IUmllMv5V7G"
      },
      "outputs": [
        {
          "data": {
            "image/png": "[encoded data removed]",
            "text/plain": [
              "<Figure size 792x432 with 1 Axes>"
            ]
          },
          "metadata": {},
          "output_type": "display_data"
        }
      ],
      "source": [
        "frequency_per.plot.pie(y='type', figsize=(11, 6), autopct='%.2f%%')\n",
        "grafico_4 = sns.lineplot()\n"
      ]
    },
    {
      "cell_type": "markdown",
      "metadata": {
        "id": "npZ8QfQgKe9G"
      },
      "source": [
        "Total"
      ]
    },
    {
      "cell_type": "code",
      "execution_count": 29,
      "metadata": {
        "id": "2fSDd3Uj5V7G"
      },
      "outputs": [
        {
          "data": {
            "text/plain": [
              "<AxesSubplot:ylabel='type'>"
            ]
          },
          "execution_count": 29,
          "metadata": {},
          "output_type": "execute_result"
        },
        {
          "data": {
            "image/png": "[encoded data removed]",
            "text/plain": [
              "<Figure size 792x432 with 1 Axes>"
            ]
          },
          "metadata": {},
          "output_type": "display_data"
        }
      ],
      "source": [
        "c_netflix.plot.pie(y='type', figsize=(11, 6), autopct='%.2f%%')"
      ]
    },
    {
      "cell_type": "markdown",
      "metadata": {
        "id": "Vfqg-JNwKgxG"
      },
      "source": [
        "Netflix x total"
      ]
    },
    {
      "cell_type": "code",
      "execution_count": 30,
      "metadata": {
        "id": "YOanAyWA5V7H"
      },
      "outputs": [
        {
          "data": {
            "text/plain": [
              "<AxesSubplot:ylabel='type'>"
            ]
          },
          "execution_count": 30,
          "metadata": {},
          "output_type": "execute_result"
        },
        {
          "data": {
            "image/png": "[encoded data removed]",
            "text/plain": [
              "<Figure size 792x432 with 1 Axes>"
            ]
          },
          "metadata": {},
          "output_type": "display_data"
        }
      ],
      "source": [
        "c_amazon.plot.pie(y='type', figsize=(11, 6), autopct='%.2f%%')"
      ]
    },
    {
      "cell_type": "markdown",
      "metadata": {
        "id": "R1Scdxo4Kjk9"
      },
      "source": [
        "Amazon x total"
      ]
    },
    {
      "cell_type": "markdown",
      "metadata": {
        "id": "_xx-tPWPKlHz"
      },
      "source": [
        "\n",
        "\n",
        "---\n",
        "\n"
      ]
    },
    {
      "cell_type": "markdown",
      "metadata": {
        "id": "pkRM5e52Kl4E"
      },
      "source": [
        "#**Conclusão:**\n",
        "\n",
        "Com essa análise fizemos:\n",
        "\n",
        "10 atores com maior participação:\n",
        "\n",
        "*   Anupam Kher, 59\n",
        "*   Maggie Binkley, 56\n",
        "*   Amitabh Bachchan, 47\n",
        "*   Shah Rukh Khan, 46\n",
        "*   Nassar, 43\n",
        "*   Akshay Kumar, 39\n",
        "*   Naseeruddin Shah, 39\n",
        "*   Paresh Rawal, 39\n",
        "*   Danny Trejo, 37\n",
        "*   Om Puri, 35\n",
        "\n",
        "5 países com maiores produções:\n",
        "\n",
        "*   United States, 3071\n",
        "*   India, 1201\n",
        "*   United Kingdom, 447\n",
        "*   Japan, 247\n",
        "*   South Korea, 199\n",
        "\n",
        "Mês com maior lançamento de filmes:\n",
        "\n",
        "*   11/2019, 187\n",
        "\n",
        "Total de filmes de comêdia:\n",
        "\n",
        "*   2498\n",
        "\n",
        "Total de gêneros disponíveis:\n",
        "\n",
        "*   715\n",
        "\n",
        "Quantida de filmes e séries no total:\n",
        "\n",
        "*   Movie, 13945\n",
        "*   TV Show, 4530\n",
        "\n",
        "Quantidade na plataforma Netflix:\n",
        "\n",
        "*   Movie, 6131\n",
        "*   TV Show, 2676\n",
        "\n",
        "Quantidade na platafoma Amazon:\n",
        "\n",
        "*   Movie, 7814\n",
        "*   TV Show, 1854"
      ]
    }
  ],
  "metadata": {
    "colab": {
      "name": "da.ipynb",
      "provenance": []
    },
    "interpreter": {
      "hash": "68f6debcf9ebcf7a37aa1c3f25e69d90b2f45051ddf7c145f9e671517b9969f4"
    },
    "kernelspec": {
      "display_name": "Python 3.10.4 64-bit (windows store)",
      "language": "python",
      "name": "python3"
    },
    "language_info": {
      "codemirror_mode": {
        "name": "ipython",
        "version": 3
      },
      "file_extension": ".py",
      "mimetype": "text/x-python",
      "name": "python",
      "nbconvert_exporter": "python",
      "pygments_lexer": "ipython3",
      "version": "3.10.5"
    },
    "orig_nbformat": 4
  },
  "nbformat": 4,
  "nbformat_minor": 0
}
